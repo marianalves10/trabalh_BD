{
  "nbformat": 4,
  "nbformat_minor": 0,
  "metadata": {
    "colab": {
      "name": "pre_processamento_final.ipynb",
      "provenance": []
    },
    "kernelspec": {
      "name": "python3",
      "display_name": "Python 3"
    },
    "language_info": {
      "name": "python"
    }
  },
  "cells": [
    {
      "cell_type": "code",
      "execution_count": null,
      "metadata": {
        "id": "wcCt2BbFzdJF"
      },
      "outputs": [],
      "source": [
        "import sqlite3\n",
        "\n",
        "conn = sqlite3.connect(\"../data/processed/database\")"
      ]
    },
    {
      "cell_type": "code",
      "source": [
        "cursor = conn.cursor()"
      ],
      "metadata": {
        "id": "9AC39lXuz4HZ"
      },
      "execution_count": null,
      "outputs": []
    },
    {
      "cell_type": "code",
      "source": [
        "import requests \n",
        "\n",
        "from io import StringIO\n",
        "\n",
        "import pandas as pd\n",
        "\n",
        "request = requests.get(\"https://raw.githubusercontent.com/leogermani/estados-e-municipios-ibge/master/estados.csv\")\n",
        "\n",
        "data = StringIO(request.text)\n",
        "\n",
        "df = pd.read_csv(data, sep=\",\")\n",
        "\n",
        "df"
      ],
      "metadata": {
        "colab": {
          "base_uri": "https://localhost:8080/",
          "height": 896
        },
        "id": "DqpQ60L90kQw",
        "outputId": "f4adbac0-b51a-428d-b573-e0e60c1c2de9"
      },
      "execution_count": null,
      "outputs": [
        {
          "output_type": "execute_result",
          "data": {
            "text/html": [
              "<div>\n",
              "<style scoped>\n",
              "    .dataframe tbody tr th:only-of-type {\n",
              "        vertical-align: middle;\n",
              "    }\n",
              "\n",
              "    .dataframe tbody tr th {\n",
              "        vertical-align: top;\n",
              "    }\n",
              "\n",
              "    .dataframe thead th {\n",
              "        text-align: right;\n",
              "    }\n",
              "</style>\n",
              "<table border=\"1\" class=\"dataframe\">\n",
              "  <thead>\n",
              "    <tr style=\"text-align: right;\">\n",
              "      <th></th>\n",
              "      <th>COD</th>\n",
              "      <th>NOME</th>\n",
              "      <th>SIGLA</th>\n",
              "    </tr>\n",
              "  </thead>\n",
              "  <tbody>\n",
              "    <tr>\n",
              "      <th>0</th>\n",
              "      <td>35</td>\n",
              "      <td>São Paulo</td>\n",
              "      <td>SP</td>\n",
              "    </tr>\n",
              "    <tr>\n",
              "      <th>1</th>\n",
              "      <td>41</td>\n",
              "      <td>Paraná</td>\n",
              "      <td>PR</td>\n",
              "    </tr>\n",
              "    <tr>\n",
              "      <th>2</th>\n",
              "      <td>42</td>\n",
              "      <td>Santa Catarina</td>\n",
              "      <td>SC</td>\n",
              "    </tr>\n",
              "    <tr>\n",
              "      <th>3</th>\n",
              "      <td>43</td>\n",
              "      <td>Rio Grande do Sul</td>\n",
              "      <td>RS</td>\n",
              "    </tr>\n",
              "    <tr>\n",
              "      <th>4</th>\n",
              "      <td>50</td>\n",
              "      <td>Mato Grosso do Sul</td>\n",
              "      <td>MS</td>\n",
              "    </tr>\n",
              "    <tr>\n",
              "      <th>5</th>\n",
              "      <td>11</td>\n",
              "      <td>Rondônia</td>\n",
              "      <td>RO</td>\n",
              "    </tr>\n",
              "    <tr>\n",
              "      <th>6</th>\n",
              "      <td>12</td>\n",
              "      <td>Acre</td>\n",
              "      <td>AC</td>\n",
              "    </tr>\n",
              "    <tr>\n",
              "      <th>7</th>\n",
              "      <td>13</td>\n",
              "      <td>Amazonas</td>\n",
              "      <td>AM</td>\n",
              "    </tr>\n",
              "    <tr>\n",
              "      <th>8</th>\n",
              "      <td>14</td>\n",
              "      <td>Roraima</td>\n",
              "      <td>RR</td>\n",
              "    </tr>\n",
              "    <tr>\n",
              "      <th>9</th>\n",
              "      <td>15</td>\n",
              "      <td>Pará</td>\n",
              "      <td>PA</td>\n",
              "    </tr>\n",
              "    <tr>\n",
              "      <th>10</th>\n",
              "      <td>16</td>\n",
              "      <td>Amapá</td>\n",
              "      <td>AP</td>\n",
              "    </tr>\n",
              "    <tr>\n",
              "      <th>11</th>\n",
              "      <td>17</td>\n",
              "      <td>Tocantins</td>\n",
              "      <td>TO</td>\n",
              "    </tr>\n",
              "    <tr>\n",
              "      <th>12</th>\n",
              "      <td>21</td>\n",
              "      <td>Maranhão</td>\n",
              "      <td>MA</td>\n",
              "    </tr>\n",
              "    <tr>\n",
              "      <th>13</th>\n",
              "      <td>24</td>\n",
              "      <td>Rio Grande do Norte</td>\n",
              "      <td>RN</td>\n",
              "    </tr>\n",
              "    <tr>\n",
              "      <th>14</th>\n",
              "      <td>25</td>\n",
              "      <td>Paraíba</td>\n",
              "      <td>PB</td>\n",
              "    </tr>\n",
              "    <tr>\n",
              "      <th>15</th>\n",
              "      <td>26</td>\n",
              "      <td>Pernambuco</td>\n",
              "      <td>PE</td>\n",
              "    </tr>\n",
              "    <tr>\n",
              "      <th>16</th>\n",
              "      <td>27</td>\n",
              "      <td>Alagoas</td>\n",
              "      <td>AL</td>\n",
              "    </tr>\n",
              "    <tr>\n",
              "      <th>17</th>\n",
              "      <td>28</td>\n",
              "      <td>Sergipe</td>\n",
              "      <td>SE</td>\n",
              "    </tr>\n",
              "    <tr>\n",
              "      <th>18</th>\n",
              "      <td>29</td>\n",
              "      <td>Bahia</td>\n",
              "      <td>BA</td>\n",
              "    </tr>\n",
              "    <tr>\n",
              "      <th>19</th>\n",
              "      <td>31</td>\n",
              "      <td>Minas Gerais</td>\n",
              "      <td>MG</td>\n",
              "    </tr>\n",
              "    <tr>\n",
              "      <th>20</th>\n",
              "      <td>33</td>\n",
              "      <td>Rio de Janeiro</td>\n",
              "      <td>RJ</td>\n",
              "    </tr>\n",
              "    <tr>\n",
              "      <th>21</th>\n",
              "      <td>51</td>\n",
              "      <td>Mato Grosso</td>\n",
              "      <td>MT</td>\n",
              "    </tr>\n",
              "    <tr>\n",
              "      <th>22</th>\n",
              "      <td>52</td>\n",
              "      <td>Goiás</td>\n",
              "      <td>GO</td>\n",
              "    </tr>\n",
              "    <tr>\n",
              "      <th>23</th>\n",
              "      <td>53</td>\n",
              "      <td>Distrito Federal</td>\n",
              "      <td>DF</td>\n",
              "    </tr>\n",
              "    <tr>\n",
              "      <th>24</th>\n",
              "      <td>22</td>\n",
              "      <td>Piauí</td>\n",
              "      <td>PI</td>\n",
              "    </tr>\n",
              "    <tr>\n",
              "      <th>25</th>\n",
              "      <td>23</td>\n",
              "      <td>Ceará</td>\n",
              "      <td>CE</td>\n",
              "    </tr>\n",
              "    <tr>\n",
              "      <th>26</th>\n",
              "      <td>32</td>\n",
              "      <td>Espírito Santo</td>\n",
              "      <td>ES</td>\n",
              "    </tr>\n",
              "  </tbody>\n",
              "</table>\n",
              "</div>"
            ],
            "text/plain": [
              "    COD                 NOME SIGLA\n",
              "0    35            São Paulo    SP\n",
              "1    41               Paraná    PR\n",
              "2    42       Santa Catarina    SC\n",
              "3    43    Rio Grande do Sul    RS\n",
              "4    50   Mato Grosso do Sul    MS\n",
              "5    11             Rondônia    RO\n",
              "6    12                 Acre    AC\n",
              "7    13             Amazonas    AM\n",
              "8    14              Roraima    RR\n",
              "9    15                 Pará    PA\n",
              "10   16                Amapá    AP\n",
              "11   17            Tocantins    TO\n",
              "12   21             Maranhão    MA\n",
              "13   24  Rio Grande do Norte    RN\n",
              "14   25              Paraíba    PB\n",
              "15   26           Pernambuco    PE\n",
              "16   27              Alagoas    AL\n",
              "17   28              Sergipe    SE\n",
              "18   29                Bahia    BA\n",
              "19   31         Minas Gerais    MG\n",
              "20   33       Rio de Janeiro    RJ\n",
              "21   51          Mato Grosso    MT\n",
              "22   52                Goiás    GO\n",
              "23   53     Distrito Federal    DF\n",
              "24   22                Piauí    PI\n",
              "25   23                Ceará    CE\n",
              "26   32       Espírito Santo    ES"
            ]
          },
          "metadata": {},
          "execution_count": 16
        }
      ]
    },
    {
      "cell_type": "code",
      "source": [
        "cursor.execute(\n",
        "    \"\"\" \n",
        "    CREATE TABLE estados_nao_processado (\n",
        "      sigla CHAR[3] PRIMARY KEY,\n",
        "      nome TEXT\n",
        "    ); \n",
        "    \"\"\"\n",
        ")"
      ],
      "metadata": {
        "colab": {
          "base_uri": "https://localhost:8080/"
        },
        "id": "TwUH9oy61YHZ",
        "outputId": "fce86078-12c3-49b8-fc20-f8eca75dcb80"
      },
      "execution_count": null,
      "outputs": [
        {
          "output_type": "execute_result",
          "data": {
            "text/plain": [
              "<sqlite3.Cursor at 0x7f888bf45880>"
            ]
          },
          "metadata": {},
          "execution_count": 17
        }
      ]
    },
    {
      "cell_type": "code",
      "source": [
        "from tqdm import tqdm\n",
        "def dataframe_to_sql(\n",
        "  df,\n",
        "  table_name,\n",
        "  conn,\n",
        "  cursor,\n",
        "  map_columns\n",
        "):\n",
        "\n",
        "  TABLE_VALUES = \",\".join(list(map_columns.values()))\n",
        "\n",
        "  INSERT_STRING = f\"INSERT INTO {table_name}({{}}) VALUES ({{}})\"\n",
        "\n",
        "\n",
        "  for _, i in tqdm(df.loc[:, map_columns.keys()].iterrows()):\n",
        "    \n",
        "    TABLE_VALUES = \",\".join(\n",
        "        value for key, value in map_columns.items() if not pd.isnull(i[key])\n",
        "    )\n",
        "\n",
        "    VALUES = \",\".join(\n",
        "      [f'\"{value}\"' if (type(value) is str) else str(value) for value in i.values if not pd.isnull(value)]\n",
        "    )\n",
        "\n",
        "    cursor.execute(INSERT_STRING.format(TABLE_VALUES, VALUES))\n",
        "\n",
        "  conn.commit()\n"
      ],
      "metadata": {
        "id": "n1jJDj2K1sxH"
      },
      "execution_count": null,
      "outputs": []
    },
    {
      "cell_type": "code",
      "source": [
        "dataframe_to_sql(\n",
        "    df=df,\n",
        "    table_name=\"estados_nao_processado\",\n",
        "    conn=conn,\n",
        "    cursor=cursor,\n",
        "    map_columns={\n",
        "        \"NOME\": \"nome\",\n",
        "        \"SIGLA\": \"sigla\"\n",
        "    }\n",
        ")"
      ],
      "metadata": {
        "id": "2r1zWNq4_fvJ"
      },
      "execution_count": null,
      "outputs": []
    },
    {
      "cell_type": "code",
      "source": [
        "cursor.execute(\n",
        "    \"CREATE TABLE estados AS \"\\\n",
        "    \"SELECT substr(sigla, 2, 3) AS sigla, nome from estados_nao_processado\"\n",
        ")"
      ],
      "metadata": {
        "colab": {
          "base_uri": "https://localhost:8080/"
        },
        "id": "FQ95FwQp2lHf",
        "outputId": "06cbdfc7-4181-4a92-b9a3-e47df836bca7"
      },
      "execution_count": null,
      "outputs": [
        {
          "output_type": "execute_result",
          "data": {
            "text/plain": [
              "<sqlite3.Cursor at 0x7f888bf45880>"
            ]
          },
          "metadata": {},
          "execution_count": 41
        }
      ]
    },
    {
      "cell_type": "code",
      "source": [
        "cursor.execute(\"\"\"\n",
        "  CREATE TABLE fronteiras (\n",
        "    id INTEGER PRIMARY KEY,\n",
        "    sigla_1 CHAR[2],\n",
        "    sigla_2 CHAR[2]\n",
        "  )\n",
        "\"\"\")"
      ],
      "metadata": {
        "colab": {
          "base_uri": "https://localhost:8080/"
        },
        "id": "drUw0B4N49j9",
        "outputId": "92e54e11-e908-44bf-a7e3-03bfbc5d4b62"
      },
      "execution_count": null,
      "outputs": [
        {
          "output_type": "execute_result",
          "data": {
            "text/plain": [
              "<sqlite3.Cursor at 0x7f888bf45880>"
            ]
          },
          "metadata": {},
          "execution_count": 44
        }
      ]
    },
    {
      "cell_type": "code",
      "source": [
        "df = pd.read_csv(\"../data/external/fronteiras.csv\")\n",
        "\n",
        "dataframe_to_sql(\n",
        "    df=df,\n",
        "    table_name=\"fronteiras\",\n",
        "    conn=conn,\n",
        "    cursor=cursor,\n",
        "    map_columns={\n",
        "        \"sigla1\": \"sigla_1\",\n",
        "        \"sigla2\": \"sigla_2\"\n",
        "    }\n",
        ")"
      ],
      "metadata": {
        "id": "gU32bXpS5mgc"
      },
      "execution_count": null,
      "outputs": []
    },
    {
      "cell_type": "code",
      "source": [
        "cursor.execute(\"\"\"CREATE TABLE dados_nao_processados (\n",
        "    estado TEXT,\n",
        "    data TEXT,\n",
        "    semanaEpi INTEGER,\n",
        "    populacaoTCU2019 REAL,\n",
        "    casosAcumulado INTEGER,\n",
        "    casosNovos INTEGER,\n",
        "    obitosAcumulado INTEGER,\n",
        "    obitosNovos INTEGER\n",
        ");\"\"\")"
      ],
      "metadata": {
        "colab": {
          "base_uri": "https://localhost:8080/"
        },
        "id": "gWfqYVybAPZE",
        "outputId": "052370b4-2f0e-4829-d979-9a980b590fba"
      },
      "execution_count": null,
      "outputs": [
        {
          "output_type": "execute_result",
          "data": {
            "text/plain": [
              "<sqlite3.Cursor at 0x7f888bf45880>"
            ]
          },
          "metadata": {},
          "execution_count": 83
        }
      ]
    },
    {
      "cell_type": "code",
      "source": [
        "file_list = [\n",
        "  \"../data/external/HIST_PAINEL_COVIDBR_2020_Parte1_10nov2021.csv\",\n",
        "  \"../data/external/HIST_PAINEL_COVIDBR_2020_Parte2_10nov2021.csv\",\n",
        "  \"../data/external/HIST_PAINEL_COVIDBR_2021_Parte1_10nov2021.csv\",\n",
        "  \"../data/external/HIST_PAINEL_COVIDBR_2021_Parte2_10nov2021.csv\",\n",
        "]\n",
        "\n",
        "for file_ in file_list:\n",
        "  df = pd.read_csv(file_, sep=\";\")\n",
        "\n",
        "  dataframe_to_sql(\n",
        "      df=df,\n",
        "      conn=conn,\n",
        "      cursor=cursor,\n",
        "      table_name=\"dados_nao_processados\",\n",
        "      map_columns={\n",
        "          \"estado\": \"estado\",\n",
        "          \"data\": \"data\",\n",
        "          \"semanaEpi\": \"semanaEpi\",\n",
        "          \"populacaoTCU2019\": \"populacaoTCU2019\",\n",
        "          \"casosAcumulado\": \"casosAcumulado\",\n",
        "          \"casosNovos\": \"casosNovos\",\n",
        "          \"obitosAcumulado\": \"obitosAcumulado\",\n",
        "          \"obitosNovos\": \"obitosNovos\"\n",
        "      }\n",
        "  )\n",
        "\n"
      ],
      "metadata": {
        "colab": {
          "base_uri": "https://localhost:8080/"
        },
        "id": "b9VM5EY3BTwQ",
        "outputId": "e3e79e93-cfd6-45c4-f7d0-79d03b4bb570"
      },
      "execution_count": null,
      "outputs": [
        {
          "output_type": "stream",
          "name": "stderr",
          "text": [
            "714481it [02:04, 5752.56it/s]\n",
            "859707it [02:29, 5750.96it/s]\n",
            "1017039it [02:58, 5702.68it/s]\n",
            "747327it [02:09, 5762.95it/s]\n"
          ]
        }
      ]
    },
    {
      "cell_type": "code",
      "source": [
        "cursor.execute(\n",
        "    \"CREATE TABLE dados AS \"\\\n",
        "    \"SELECT * FROM dados_nao_processados \"\\\n",
        "    \"WHERE estado IS NOT NULL\"\n",
        ")"
      ],
      "metadata": {
        "colab": {
          "base_uri": "https://localhost:8080/"
        },
        "id": "w2Q0utwMBmet",
        "outputId": "5d5d1749-f4a6-4e0e-e8fb-5848c6314c70"
      },
      "execution_count": null,
      "outputs": [
        {
          "output_type": "execute_result",
          "data": {
            "text/plain": [
              "<sqlite3.Cursor at 0x7f888bf45880>"
            ]
          },
          "metadata": {},
          "execution_count": 86
        }
      ]
    },
    {
      "cell_type": "code",
      "source": [
        "cursor.execute( \n",
        "    \"CREATE TABLE dados_estados_total AS \"\\\n",
        "    \"SELECT estado, MAX(casosAcumulado) AS casosAcumulados, MAX(obitosAcumulado) as obitosAcumulados \"\\\n",
        "    \"FROM dados GROUP BY estado\"\n",
        ")"
      ],
      "metadata": {
        "colab": {
          "base_uri": "https://localhost:8080/"
        },
        "id": "HXvZgvA6JFxc",
        "outputId": "3695698e-1ac4-41cc-996e-476dc06a99bd"
      },
      "execution_count": null,
      "outputs": [
        {
          "output_type": "execute_result",
          "data": {
            "text/plain": [
              "<sqlite3.Cursor at 0x7f888bf45880>"
            ]
          },
          "metadata": {},
          "execution_count": 89
        }
      ]
    },
    {
      "cell_type": "code",
      "source": [
        ""
      ],
      "metadata": {
        "id": "AibTfs_DjPkl"
      },
      "execution_count": null,
      "outputs": []
    },
    {
      "cell_type": "code",
      "source": [
        "cursor.execute(\n",
        "    \"\"\"\n",
        "    CREATE TABLE pessoas_habilitadas_nao_processado (\n",
        "      id INTEGER PRIMARY KEY AUTOINCREMENT,\n",
        "      data VARCHAR(8),\n",
        "      contagem_pessoas INTEGER\n",
        "    );\n",
        "    \"\"\"\n",
        ")"
      ],
      "metadata": {
        "colab": {
          "base_uri": "https://localhost:8080/"
        },
        "id": "LmAYCoegZcUJ",
        "outputId": "5a8f187c-2cbd-46fc-ff66-81b7c6080282"
      },
      "execution_count": null,
      "outputs": [
        {
          "output_type": "execute_result",
          "data": {
            "text/plain": [
              "<sqlite3.Cursor at 0x7f887edcb500>"
            ]
          },
          "metadata": {},
          "execution_count": 106
        }
      ]
    },
    {
      "cell_type": "code",
      "source": [
        "df = pd.read_csv(\"../data/external/pessoas_habilitadas.csv\")\n",
        "\n",
        "dataframe_to_sql(\n",
        "    df=df,\n",
        "    conn=conn,\n",
        "    cursor=cursor,\n",
        "    table_name=\"pessoas_habilitadas_nao_processado\",\n",
        "    map_columns={\n",
        "        'Data': 'data',\n",
        "         'Pessoas de 14 anos ou mais de idade - Pessoa - Instituto Brasileiro de Geografia e Estatística': 'contagem_pessoas'\n",
        "    }\n",
        ")"
      ],
      "metadata": {
        "colab": {
          "base_uri": "https://localhost:8080/"
        },
        "id": "01x2a6vvZll0",
        "outputId": "43e17bb8-72b4-41af-ce5c-f923e0488982"
      },
      "execution_count": null,
      "outputs": [
        {
          "output_type": "stream",
          "name": "stderr",
          "text": [
            "114it [00:00, 6959.27it/s]\n"
          ]
        }
      ]
    },
    {
      "cell_type": "code",
      "source": [
        "cursor.execute(\n",
        "    \"CREATE TABLE pessoas_habilitadas AS \"\\\n",
        "    \"SELECT * from pessoas_habilitadas_nao_processado WHERE data > \\\"2019\\\";\"\n",
        ")"
      ],
      "metadata": {
        "colab": {
          "base_uri": "https://localhost:8080/"
        },
        "id": "OVQRatnoaVWl",
        "outputId": "38c3f22a-e817-46a5-9574-7226082cff05"
      },
      "execution_count": null,
      "outputs": [
        {
          "output_type": "execute_result",
          "data": {
            "text/plain": [
              "<sqlite3.Cursor at 0x7f887edcb500>"
            ]
          },
          "metadata": {},
          "execution_count": 114
        }
      ]
    },
    {
      "cell_type": "code",
      "source": [
        "cursor.execute(\n",
        "    \"\"\"\n",
        "    CREATE TABLE pessoas_ocupadas_nao_processado (\n",
        "      id INTEGER PRIMARY KEY AUTOINCREMENT,\n",
        "      data VARCHAR(8),\n",
        "      contagem_pessoas INTEGER\n",
        "    );\n",
        "    \"\"\"\n",
        ")"
      ],
      "metadata": {
        "colab": {
          "base_uri": "https://localhost:8080/"
        },
        "id": "RyB9OkAJbJui",
        "outputId": "38be90ab-e2b0-43de-e1e9-600313dffe0c"
      },
      "execution_count": null,
      "outputs": [
        {
          "output_type": "execute_result",
          "data": {
            "text/plain": [
              "<sqlite3.Cursor at 0x7f887edcb500>"
            ]
          },
          "metadata": {},
          "execution_count": 115
        }
      ]
    },
    {
      "cell_type": "code",
      "source": [
        "df = pd.read_csv(\"../data/external/pessoas_ocupadas.csv\")\n",
        "\n",
        "dataframe_to_sql(\n",
        "    df=df,\n",
        "    conn=conn,\n",
        "    cursor=cursor,\n",
        "    table_name=\"pessoas_ocupadas_nao_processado\",\n",
        "    map_columns={\n",
        "        'Data': 'data',\n",
        "        'Pessoas ocupadas - Pessoa - Instituto Brasileiro de Geografia e Estatística': 'contagem_pessoas'\n",
        "    }\n",
        ")"
      ],
      "metadata": {
        "colab": {
          "base_uri": "https://localhost:8080/"
        },
        "id": "0D-qw_qSbMxs",
        "outputId": "939057b9-03eb-4a70-98a0-1785632bf20e"
      },
      "execution_count": null,
      "outputs": [
        {
          "output_type": "stream",
          "name": "stderr",
          "text": [
            "114it [00:00, 5978.75it/s]\n"
          ]
        }
      ]
    },
    {
      "cell_type": "code",
      "source": [
        "cursor.execute(\n",
        "    \"CREATE TABLE pessoas_ocupadas AS \"\\\n",
        "    \"SELECT * from pessoas_ocupadas_nao_processado WHERE data > \\\"2019\\\";\"\n",
        ")"
      ],
      "metadata": {
        "colab": {
          "base_uri": "https://localhost:8080/"
        },
        "id": "UOokMTlhbcrt",
        "outputId": "0e5303e5-3b6d-482b-d04f-c952e7c20c70"
      },
      "execution_count": null,
      "outputs": [
        {
          "output_type": "execute_result",
          "data": {
            "text/plain": [
              "<sqlite3.Cursor at 0x7f887edcb500>"
            ]
          },
          "metadata": {},
          "execution_count": 117
        }
      ]
    },
    {
      "cell_type": "code",
      "source": [
        "cursor.execute(\n",
        "    \"CREATE TABLE data_economico AS \"\\\n",
        "    \"SELECT pessoas_ocupadas.data as data, \"\\\n",
        "    \"pessoas_ocupadas.contagem_pessoas as contagem_pessoas_ocupadas, \"\\\n",
        "    \"pessoas_habilitadas.contagem_pessoas as contagem_pessoas_habilitadas \"\\\n",
        "    \"FROM pessoas_ocupadas INNER JOIN pessoas_habilitadas ON pessoas_ocupadas.data = pessoas_habilitadas.data\"\n",
        ")"
      ],
      "metadata": {
        "colab": {
          "base_uri": "https://localhost:8080/"
        },
        "id": "xyk6SHG1bi80",
        "outputId": "6855876f-5dea-4295-db19-d7524899af5f"
      },
      "execution_count": null,
      "outputs": [
        {
          "output_type": "execute_result",
          "data": {
            "text/plain": [
              "<sqlite3.Cursor at 0x7f887edcb500>"
            ]
          },
          "metadata": {},
          "execution_count": 118
        }
      ]
    }
  ]
}
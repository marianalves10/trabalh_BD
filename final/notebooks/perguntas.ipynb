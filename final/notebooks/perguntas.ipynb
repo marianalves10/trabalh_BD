{
  "nbformat": 4,
  "nbformat_minor": 0,
  "metadata": {
    "colab": {
      "name": "perguntas.ipynb",
      "provenance": []
    },
    "kernelspec": {
      "name": "python3",
      "display_name": "Python 3"
    },
    "language_info": {
      "name": "python"
    }
  },
  "cells": [
    {
      "cell_type": "code",
      "metadata": {
        "id": "EbGkQD-JiDNK"
      },
      "source": [
        "import sqlite3\n",
        "\n",
        "conn = sqlite3.connect(\"test_database_\")\n",
        "cursor = conn.cursor()"
      ],
      "execution_count": null,
      "outputs": []
    },
    {
      "cell_type": "markdown",
      "metadata": {
        "id": "d1erVusXB5AP"
      },
      "source": [
        "O mês de 2020 que teve maior número de óbitos foi o mesmo mês que teve menor número de pessoas ocupadas?"
      ]
    },
    {
      "cell_type": "code",
      "metadata": {
        "id": "HwvmRxPoCIpy",
        "colab": {
          "base_uri": "https://localhost:8080/"
        },
        "outputId": "e3adb0ae-b798-45b7-cc64-ff175b909259"
      },
      "source": [
        "for i in cursor.execute(\n",
        "    \"SELECT data, MIN(contagem_pessoas_ocupadas) from data_economico\"\n",
        "):\n",
        "  print(i)"
      ],
      "execution_count": null,
      "outputs": [
        {
          "output_type": "stream",
          "name": "stdout",
          "text": [
            "('2020.08', 81666)\n"
          ]
        }
      ]
    },
    {
      "cell_type": "markdown",
      "metadata": {
        "id": "DYfEcJmnNY8-"
      },
      "source": [
        "Agosto de 2020 foi o mês com menos pessoas ocupadas."
      ]
    },
    {
      "cell_type": "code",
      "metadata": {
        "colab": {
          "base_uri": "https://localhost:8080/"
        },
        "id": "_DmI8gjPmj7D",
        "outputId": "18439c7a-fe29-4b8f-8fa6-108fa254bfe2"
      },
      "source": [
        "for i in cursor.execute(\"SELECT data, MAX(obitosNovos) from analise_obito where data LIKE '%2020%' \"):\n",
        "  print(i)"
      ],
      "execution_count": null,
      "outputs": [
        {
          "output_type": "stream",
          "name": "stdout",
          "text": [
            "('2020-7', 32881)\n"
          ]
        }
      ]
    },
    {
      "cell_type": "markdown",
      "metadata": {
        "id": "Pd51vASJNl81"
      },
      "source": [
        "Julho de 2020 foi o mês com mais óbitos."
      ]
    },
    {
      "cell_type": "markdown",
      "metadata": {
        "id": "81FYei1oNqLF"
      },
      "source": [
        "Retornando à pergunta que se o mês de 2020 que teve maior número de óbitos foi o mesmo mês que teve menor número de pessoas ocupadas?"
      ]
    },
    {
      "cell_type": "markdown",
      "metadata": {
        "id": "lqreSQWHLiOx"
      },
      "source": [
        "Não, na verdade o mês que teve menor número de pessoas sem ocupação não foi o mesmo mês em que houve mais óbitos em 2020, o qual foi o primeiro ano de pandemia de covid."
      ]
    },
    {
      "cell_type": "code",
      "metadata": {
        "colab": {
          "base_uri": "https://localhost:8080/"
        },
        "id": "c6j8KrYOjwYe",
        "outputId": "c631783f-967a-450a-814f-51b4de8f4c31"
      },
      "source": [
        "for i in cursor.execute(\n",
        "    \"SELECT data, MIN(contagem_pessoas_ocupadas) FROM data_economigo WHERE \"\\\n",
        "    \"contagem_pessoas_ocupadas > \"\\\n",
        "    \"(SELECT MIN(contagem_pessoas_ocupadas) FROM data_economigo)\"\n",
        "):\n",
        "  print(i)"
      ],
      "execution_count": null,
      "outputs": [
        {
          "output_type": "stream",
          "name": "stdout",
          "text": [
            "('2020.07', 82027)\n"
          ]
        }
      ]
    },
    {
      "cell_type": "markdown",
      "metadata": {
        "id": "cKUFpI6NNDlJ"
      },
      "source": [
        "Porém o segundo mês de 2020 com menos pessoas ocupadas coincide com o de mais óbitos, que é julho de 2020."
      ]
    },
    {
      "cell_type": "code",
      "metadata": {
        "id": "BcQ66f99kch5"
      },
      "source": [
        "conn.close()"
      ],
      "execution_count": null,
      "outputs": []
    }
  ]
}
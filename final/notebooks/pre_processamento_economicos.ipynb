{
  "nbformat": 4,
  "nbformat_minor": 0,
  "metadata": {
    "colab": {
      "name": "pre_processamento_economicos.ipynb",
      "provenance": [],
      "collapsed_sections": []
    },
    "kernelspec": {
      "name": "python3",
      "display_name": "Python 3"
    },
    "language_info": {
      "name": "python"
    }
  },
  "cells": [
    {
      "cell_type": "code",
      "metadata": {
        "id": "DQvkwXqWnZOf"
      },
      "source": [
        "import sqlite3 "
      ],
      "execution_count": null,
      "outputs": []
    },
    {
      "cell_type": "code",
      "metadata": {
        "id": "ZD-k58VMsqh2"
      },
      "source": [
        "conn = sqlite3.connect(\"test_database_\")\n"
      ],
      "execution_count": null,
      "outputs": []
    },
    {
      "cell_type": "code",
      "metadata": {
        "id": "NnBOVoxoIyJP"
      },
      "source": [
        "cursor = conn.cursor()"
      ],
      "execution_count": null,
      "outputs": []
    },
    {
      "cell_type": "code",
      "metadata": {
        "id": "MX3Nxo7_I3rU"
      },
      "source": [
        "conn.execute(\"\"\"\n",
        "  CREATE TABLE estados (\n",
        "    cod INTEGER PRIMARY KEY,\n",
        "    nome VARCHAR(50),\n",
        "    sigla VARCHAR(5)\n",
        "  )\n",
        "\"\"\")"
      ],
      "execution_count": null,
      "outputs": []
    },
    {
      "cell_type": "code",
      "metadata": {
        "id": "iGhz_ZkrJRD1"
      },
      "source": [
        "import pandas as pd\n",
        "from typing import Dict, Any\n",
        "def convert_csv_into_table(\n",
        "    connection: sqlite3.Connection,\n",
        "    cursor: sqlite3.Connection.cursor,\n",
        "    csv_filename: str,\n",
        "    table_name: str,\n",
        "    columns_dict: Dict[str, str],\n",
        "    read_csv_args: Dict[str, Any] = {}\n",
        "):\n",
        "  dataframe = pd.read_csv(csv_filename, **read_csv_args)\n",
        "\n",
        "  insert_execute_string = f'INSERT INTO {table_name} ({{}}) VALUES ({{}});'\n",
        "\n",
        "  for record in dataframe.to_dict('records'):\n",
        "    record = {columns_dict[key]: value for key, value in record.items()}\n",
        "    values_string = ','.join([\n",
        "      str(i) if type(i) != str else f'\"{i}\"' for i in record.values()\n",
        "    ])\n",
        "    execute_string = insert_execute_string.format(\n",
        "        ','.join(list(record.keys())),\n",
        "        values_string\n",
        "    )\n",
        "    \n",
        "    cursor.execute(execute_string)\n",
        "  conn.commit()\n"
      ],
      "execution_count": null,
      "outputs": []
    },
    {
      "cell_type": "code",
      "metadata": {
        "colab": {
          "base_uri": "https://localhost:8080/"
        },
        "id": "8AJCf0NJNVlg",
        "outputId": "5f55c36d-5848-427d-e2ea-38051accc8ca"
      },
      "source": [
        "cursor.execute(\n",
        "    \"\"\"\n",
        "    CREATE TABLE pessoas_habilitadas_nao_processado (\n",
        "      id INTEGER PRIMARY KEY AUTOINCREMENT,\n",
        "      data VARCHAR(8),\n",
        "      contagem_pessoas INTEGER\n",
        "    );\n",
        "    \"\"\"\n",
        ")"
      ],
      "execution_count": null,
      "outputs": [
        {
          "output_type": "execute_result",
          "data": {
            "text/plain": [
              "<sqlite3.Cursor at 0x7f1126f582d0>"
            ]
          },
          "metadata": {},
          "execution_count": 66
        }
      ]
    },
    {
      "cell_type": "code",
      "metadata": {
        "id": "vP-rBIjyOflY"
      },
      "source": [
        "convert_csv_into_table(\n",
        "    connection=conn,\n",
        "    cursor=cursor,\n",
        "    csv_filename='../data/external/pessoas_habilitadas.csv',\n",
        "    table_name='pessoas_habilitadas_nao_processado',\n",
        "    columns_dict={\n",
        "        'Data': 'data',\n",
        "        'Pessoas de 14 anos ou mais de idade - Pessoa - Instituto Brasileiro de Geografia e Estatística': 'contagem_pessoas'\n",
        "    })"
      ],
      "execution_count": null,
      "outputs": []
    },
    {
      "cell_type": "code",
      "metadata": {
        "colab": {
          "base_uri": "https://localhost:8080/"
        },
        "id": "_Tpi7yGOPP0P",
        "outputId": "5d490c10-8085-4251-d127-d8dca00e17a4"
      },
      "source": [
        "cursor.execute(\n",
        "    \"CREATE TABLE pessoas_habilitadas AS \"\\\n",
        "    \"SELECT * from pessoas_habilitadas_nao_processado WHERE data > \\\"2019\\\";\"\n",
        ")"
      ],
      "execution_count": null,
      "outputs": [
        {
          "output_type": "execute_result",
          "data": {
            "text/plain": [
              "<sqlite3.Cursor at 0x7f1126f582d0>"
            ]
          },
          "metadata": {},
          "execution_count": 68
        }
      ]
    },
    {
      "cell_type": "code",
      "metadata": {
        "id": "Sz-84ES3PVwH"
      },
      "source": [
        "conn.commit()"
      ],
      "execution_count": null,
      "outputs": []
    },
    {
      "cell_type": "code",
      "metadata": {
        "colab": {
          "base_uri": "https://localhost:8080/"
        },
        "id": "uM4UR9isP10Y",
        "outputId": "10fdfbfe-8e87-45da-d1a3-1aa9cdc2b462"
      },
      "source": [
        "cursor.execute(\n",
        "    \"\"\"\n",
        "    CREATE TABLE pessoas_ocupadas_nao_processado (\n",
        "      id INTEGER PRIMARY KEY AUTOINCREMENT,\n",
        "      data VARCHAR(8),\n",
        "      contagem_pessoas INTEGER\n",
        "    );\n",
        "    \"\"\"\n",
        ")"
      ],
      "execution_count": null,
      "outputs": [
        {
          "output_type": "execute_result",
          "data": {
            "text/plain": [
              "<sqlite3.Cursor at 0x7f1126f582d0>"
            ]
          },
          "metadata": {},
          "execution_count": 70
        }
      ]
    },
    {
      "cell_type": "code",
      "metadata": {
        "id": "ee2l1mXYQxOS"
      },
      "source": [
        "convert_csv_into_table(\n",
        "    connection=conn,\n",
        "    cursor=cursor,\n",
        "    csv_filename='../data/external/pessoas_ocupadas.csv',\n",
        "    table_name='pessoas_ocupadas_nao_processado',\n",
        "    columns_dict={\n",
        "        'Data': 'data',\n",
        "        'Pessoas ocupadas - Pessoa - Instituto Brasileiro de Geografia e Estatística': 'contagem_pessoas'\n",
        "    })"
      ],
      "execution_count": null,
      "outputs": []
    },
    {
      "cell_type": "code",
      "metadata": {
        "colab": {
          "base_uri": "https://localhost:8080/"
        },
        "id": "kNk7yn7ERCJR",
        "outputId": "aeb82eba-ff72-4ce5-8df4-a8a883fd9618"
      },
      "source": [
        "cursor.execute(\n",
        "    \"CREATE TABLE pessoas_ocupadas AS \"\\\n",
        "    \"SELECT * from pessoas_ocupadas_nao_processado WHERE data > \\\"2019\\\";\"\n",
        ")"
      ],
      "execution_count": null,
      "outputs": [
        {
          "output_type": "execute_result",
          "data": {
            "text/plain": [
              "<sqlite3.Cursor at 0x7f1126f582d0>"
            ]
          },
          "metadata": {},
          "execution_count": 72
        }
      ]
    },
    {
      "cell_type": "code",
      "metadata": {
        "colab": {
          "base_uri": "https://localhost:8080/"
        },
        "id": "8H8S61DPRHvD",
        "outputId": "73f1279b-317d-4700-97e3-eaaa6e010637"
      },
      "source": [
        "cursor.execute(\n",
        "    \"CREATE TABLE data_economico AS \"\\\n",
        "    \"SELECT pessoas_ocupadas.data as data, \"\\\n",
        "    \"pessoas_ocupadas.contagem_pessoas as contagem_pessoas_ocupadas, \"\\\n",
        "    \"pessoas_habilitadas.contagem_pessoas as contagem_pessoas_habilitadas \"\\\n",
        "    \"FROM pessoas_ocupadas INNER JOIN pessoas_habilitadas ON pessoas_ocupadas.data = pessoas_habilitadas.data\"\n",
        ")"
      ],
      "execution_count": null,
      "outputs": [
        {
          "output_type": "execute_result",
          "data": {
            "text/plain": [
              "<sqlite3.Cursor at 0x7f1126f589d0>"
            ]
          },
          "metadata": {},
          "execution_count": 80
        }
      ]
    },
    {
      "cell_type": "code",
      "metadata": {
        "id": "YAuY9mP0f17O"
      },
      "source": [
        "conn.commit()\n",
        "conn.close()"
      ],
      "execution_count": null,
      "outputs": []
    }
  ]
}
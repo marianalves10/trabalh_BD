{
  "nbformat": 4,
  "nbformat_minor": 5,
  "metadata": {
    "kernelspec": {
      "display_name": "Python 3 (ipykernel)",
      "language": "python",
      "name": "python3"
    },
    "language_info": {
      "codemirror_mode": {
        "name": "ipython",
        "version": 3
      },
      "file_extension": ".py",
      "mimetype": "text/x-python",
      "name": "python",
      "nbconvert_exporter": "python",
      "pygments_lexer": "ipython3",
      "version": "3.9.7"
    },
    "colab": {
      "name": "pre_processamento_covid (1).ipynb",
      "provenance": []
    }
  },
  "cells": [
    {
      "cell_type": "code",
      "metadata": {
        "id": "Uh3EThX-ULH9"
      },
      "source": [
        "import sqlite3\n",
        "import pandas as pd\n",
        "from typing import Dict, Any\n",
        "\n",
        "conn = sqlite3.connect(\"test_database_\")\n",
        "cursor = conn.cursor()\n",
        "\n",
        "def convert_csv_into_table(\n",
        "    connection: sqlite3.Connection,\n",
        "    cursor: sqlite3.Connection.cursor,\n",
        "    csv_filename: str,\n",
        "    table_name: str,\n",
        "    columns_dict: Dict[str, str],\n",
        "    read_csv_args: Dict[str, Any] = {}\n",
        "):\n",
        "  dataframe = pd.read_csv(csv_filename, **read_csv_args)\n",
        "\n",
        "  insert_execute_string = f'INSERT INTO {table_name} ({{}}) VALUES ({{}});'\n",
        "\n",
        "  for record in dataframe.to_dict('records'):\n",
        "\n",
        "    record = {columns_dict[key]: value for key, value in record.items() if not pd.isnull(value)}\n",
        "    values_string = ','.join([\n",
        "      str(i) if type(i) != str else f'\"{i}\"' for i in record.values() \n",
        "    ])\n",
        "    \n",
        "    execute_string = insert_execute_string.format(\n",
        "        ','.join(list(record.keys())),\n",
        "        values_string\n",
        "    )\n",
        "    cursor.execute(execute_string)\n",
        "  conn.commit()\n"
      ],
      "id": "Uh3EThX-ULH9",
      "execution_count": null,
      "outputs": []
    },
    {
      "cell_type": "code",
      "metadata": {
        "id": "bpC_6gj-geOS"
      },
      "source": [
        ""
      ],
      "id": "bpC_6gj-geOS",
      "execution_count": null,
      "outputs": []
    },
    {
      "cell_type": "code",
      "metadata": {
        "colab": {
          "base_uri": "https://localhost:8080/"
        },
        "id": "hHwIs6kVW2Qp",
        "outputId": "69b2837e-0ce0-461b-d345-a2f26c8ce0fb"
      },
      "source": [
        "cursor.execute(\n",
        "    \"\"\"\n",
        "    CREATE TABLE hist_painel_covidbr_2020_parte1nov2021 (\n",
        "      id INTEGER PRIMARY KEY AUTOINCREMENT,\n",
        "      regiao TEXT,\n",
        "      estado TEXT,\n",
        "      municipio TEXT,\n",
        "      coduf INTEGER,\n",
        "      codmun REAL,\n",
        "      codRegiaoSaude REAL,\n",
        "      nomeRegiaoSaude TEXT,\n",
        "      data TEXT,\n",
        "      semanaEpi INTEGER,\n",
        "      populacaoTCU2019 REAL,\n",
        "      casosAcumulado INTEGER,\n",
        "      casosNovos INTEGER,\n",
        "      obitosAcumulado INTEGER,\n",
        "      obitosNovos INTEGER,\n",
        "      recuperadosNovos REAL,\n",
        "      emAcompanhamentoNovos REAL,\n",
        "      interior_metropolitana REAL\n",
        "    );\"\"\"\n",
        ")"
      ],
      "id": "hHwIs6kVW2Qp",
      "execution_count": null,
      "outputs": [
        {
          "output_type": "execute_result",
          "data": {
            "text/plain": [
              "<sqlite3.Cursor at 0x7f27cedfc030>"
            ]
          },
          "metadata": {},
          "execution_count": 60
        }
      ]
    },
    {
      "cell_type": "code",
      "metadata": {
        "id": "HfuVsVgsXefP"
      },
      "source": [
        "for path in [\n",
        "  '/content/HIST_PAINEL_COVIDBR_2020_Parte1_10nov2021.csv',\n",
        "  '/content/HIST_PAINEL_COVIDBR_2020_Parte2_10nov2021.csv',\n",
        "  '/content/HIST_PAINEL_COVIDBR_2021_Parte1_10nov2021.csv',\n",
        "  '/content/HIST_PAINEL_COVIDBR_2021_Parte2_10nov2021.csv'\n",
        "]:\n",
        "  convert_csv_into_table(\n",
        "      conn,\n",
        "      cursor,\n",
        "      path,\n",
        "      'hist_painel_covidbr_2020_parte1nov2021',\n",
        "      {\n",
        "        'regiao': 'regiao',\n",
        "        'estado': 'estado',\n",
        "        'municipio': 'municipio',\n",
        "        'coduf': 'coduf',\n",
        "        'codmun': 'codmun',\n",
        "        'codRegiaoSaude': 'codRegiaoSaude',\n",
        "        'nomeRegiaoSaude': 'nomeRegiaoSaude',\n",
        "        'data': 'data',\n",
        "        'semanaEpi': 'semanaEpi',\n",
        "        'populacaoTCU2019': 'populacaoTCU2019',\n",
        "        'casosAcumulado': 'casosAcumulado',\n",
        "        'casosNovos': 'casosNovos',\n",
        "        'obitosAcumulado': 'obitosAcumulado',\n",
        "        'obitosNovos': 'obitosNovos',\n",
        "        'Recuperadosnovos': 'recuperadosNovos',\n",
        "        'emAcompanhamentoNovos': 'emAcompanhamentoNovos',\n",
        "        'interior/metropolitana': 'interior_metropolitana'\n",
        "      },\n",
        "      {'sep': ';'}\n",
        "  )"
      ],
      "id": "HfuVsVgsXefP",
      "execution_count": null,
      "outputs": []
    },
    {
      "cell_type": "code",
      "metadata": {
        "id": "cCpErjzkalQc"
      },
      "source": [
        "convert_csv_into_table(\n",
        "    conn,\n",
        "    cursor,\n",
        "    'HIST_PAINEL_COVIDBR_2020_Parte1_10nov2021.csv',\n",
        "    'hist_painel_covidbr_2020_parte1nov2021',\n",
        "    {\n",
        "      'regiao': 'regiao',\n",
        "      'estado': 'estado',\n",
        "      'municipio': 'municipio',\n",
        "      'coduf': 'coduf',\n",
        "      'codmun': 'codmun',\n",
        "      'codRegiaoSaude': 'codRegiaoSaude',\n",
        "      'nomeRegiaoSaude': 'nomeRegiaoSaude',\n",
        "      'data': 'data',\n",
        "      'semanaEpi': 'semanaEpi',\n",
        "      'populacaoTCU2019': 'populacaoTCU2019',\n",
        "      'casosAcumulado': 'casosAcumulado',\n",
        "      'casosNovos': 'casosNovos',\n",
        "      'obitosAcumulado': 'obitosAcumulado',\n",
        "      'obitosNovos': 'obitosNovos',\n",
        "      'Recuperadosnovos': 'recuperadosNovos',\n",
        "      'emAcompanhamentoNovos': 'emAcompanhamentoNovos',\n",
        "      'interior/metropolitana': 'interior_metropolitana'\n",
        "    },\n",
        "    {'sep': ';'}\n",
        ")"
      ],
      "id": "cCpErjzkalQc",
      "execution_count": null,
      "outputs": []
    },
    {
      "cell_type": "code",
      "metadata": {
        "colab": {
          "base_uri": "https://localhost:8080/",
          "height": 313
        },
        "id": "EXPj4pVeUip6",
        "outputId": "8989453b-8790-4e08-b207-160912701bea"
      },
      "source": [
        "df = pd.read_csv(\"..data/external/HIST_PAINEL_COVIDBR_2020_Parte1_10nov2021.csv\", sep=';')\n",
        "df.head()"
      ],
      "id": "EXPj4pVeUip6",
      "execution_count": null,
      "outputs": [
        {
          "output_type": "execute_result",
          "data": {
            "text/html": [
              "<div>\n",
              "<style scoped>\n",
              "    .dataframe tbody tr th:only-of-type {\n",
              "        vertical-align: middle;\n",
              "    }\n",
              "\n",
              "    .dataframe tbody tr th {\n",
              "        vertical-align: top;\n",
              "    }\n",
              "\n",
              "    .dataframe thead th {\n",
              "        text-align: right;\n",
              "    }\n",
              "</style>\n",
              "<table border=\"1\" class=\"dataframe\">\n",
              "  <thead>\n",
              "    <tr style=\"text-align: right;\">\n",
              "      <th></th>\n",
              "      <th>regiao</th>\n",
              "      <th>estado</th>\n",
              "      <th>municipio</th>\n",
              "      <th>coduf</th>\n",
              "      <th>codmun</th>\n",
              "      <th>codRegiaoSaude</th>\n",
              "      <th>nomeRegiaoSaude</th>\n",
              "      <th>data</th>\n",
              "      <th>semanaEpi</th>\n",
              "      <th>populacaoTCU2019</th>\n",
              "      <th>casosAcumulado</th>\n",
              "      <th>casosNovos</th>\n",
              "      <th>obitosAcumulado</th>\n",
              "      <th>obitosNovos</th>\n",
              "      <th>Recuperadosnovos</th>\n",
              "      <th>emAcompanhamentoNovos</th>\n",
              "      <th>interior/metropolitana</th>\n",
              "    </tr>\n",
              "  </thead>\n",
              "  <tbody>\n",
              "    <tr>\n",
              "      <th>0</th>\n",
              "      <td>Brasil</td>\n",
              "      <td>NaN</td>\n",
              "      <td>NaN</td>\n",
              "      <td>76</td>\n",
              "      <td>NaN</td>\n",
              "      <td>NaN</td>\n",
              "      <td>NaN</td>\n",
              "      <td>2020-02-25</td>\n",
              "      <td>9</td>\n",
              "      <td>210147125.0</td>\n",
              "      <td>0</td>\n",
              "      <td>0</td>\n",
              "      <td>0</td>\n",
              "      <td>0</td>\n",
              "      <td>NaN</td>\n",
              "      <td>NaN</td>\n",
              "      <td>NaN</td>\n",
              "    </tr>\n",
              "    <tr>\n",
              "      <th>1</th>\n",
              "      <td>Brasil</td>\n",
              "      <td>NaN</td>\n",
              "      <td>NaN</td>\n",
              "      <td>76</td>\n",
              "      <td>NaN</td>\n",
              "      <td>NaN</td>\n",
              "      <td>NaN</td>\n",
              "      <td>2020-02-26</td>\n",
              "      <td>9</td>\n",
              "      <td>210147125.0</td>\n",
              "      <td>1</td>\n",
              "      <td>1</td>\n",
              "      <td>0</td>\n",
              "      <td>0</td>\n",
              "      <td>NaN</td>\n",
              "      <td>NaN</td>\n",
              "      <td>NaN</td>\n",
              "    </tr>\n",
              "    <tr>\n",
              "      <th>2</th>\n",
              "      <td>Brasil</td>\n",
              "      <td>NaN</td>\n",
              "      <td>NaN</td>\n",
              "      <td>76</td>\n",
              "      <td>NaN</td>\n",
              "      <td>NaN</td>\n",
              "      <td>NaN</td>\n",
              "      <td>2020-02-27</td>\n",
              "      <td>9</td>\n",
              "      <td>210147125.0</td>\n",
              "      <td>1</td>\n",
              "      <td>0</td>\n",
              "      <td>0</td>\n",
              "      <td>0</td>\n",
              "      <td>NaN</td>\n",
              "      <td>NaN</td>\n",
              "      <td>NaN</td>\n",
              "    </tr>\n",
              "    <tr>\n",
              "      <th>3</th>\n",
              "      <td>Brasil</td>\n",
              "      <td>NaN</td>\n",
              "      <td>NaN</td>\n",
              "      <td>76</td>\n",
              "      <td>NaN</td>\n",
              "      <td>NaN</td>\n",
              "      <td>NaN</td>\n",
              "      <td>2020-02-28</td>\n",
              "      <td>9</td>\n",
              "      <td>210147125.0</td>\n",
              "      <td>1</td>\n",
              "      <td>0</td>\n",
              "      <td>0</td>\n",
              "      <td>0</td>\n",
              "      <td>NaN</td>\n",
              "      <td>NaN</td>\n",
              "      <td>NaN</td>\n",
              "    </tr>\n",
              "    <tr>\n",
              "      <th>4</th>\n",
              "      <td>Brasil</td>\n",
              "      <td>NaN</td>\n",
              "      <td>NaN</td>\n",
              "      <td>76</td>\n",
              "      <td>NaN</td>\n",
              "      <td>NaN</td>\n",
              "      <td>NaN</td>\n",
              "      <td>2020-02-29</td>\n",
              "      <td>9</td>\n",
              "      <td>210147125.0</td>\n",
              "      <td>2</td>\n",
              "      <td>1</td>\n",
              "      <td>0</td>\n",
              "      <td>0</td>\n",
              "      <td>NaN</td>\n",
              "      <td>NaN</td>\n",
              "      <td>NaN</td>\n",
              "    </tr>\n",
              "  </tbody>\n",
              "</table>\n",
              "</div>"
            ],
            "text/plain": [
              "   regiao estado  ... emAcompanhamentoNovos  interior/metropolitana\n",
              "0  Brasil    NaN  ...                   NaN                     NaN\n",
              "1  Brasil    NaN  ...                   NaN                     NaN\n",
              "2  Brasil    NaN  ...                   NaN                     NaN\n",
              "3  Brasil    NaN  ...                   NaN                     NaN\n",
              "4  Brasil    NaN  ...                   NaN                     NaN\n",
              "\n",
              "[5 rows x 17 columns]"
            ]
          },
          "metadata": {},
          "execution_count": 9
        }
      ]
    },
    {
      "cell_type": "code",
      "metadata": {
        "colab": {
          "base_uri": "https://localhost:8080/"
        },
        "id": "c940d2ba",
        "outputId": "06e4e905-2ad5-4d4e-a80e-f933a68cede0"
      },
      "source": [
        "cursor.execute(\n",
        "    \"CREATE TABLE data_2020_2021 AS \" \\\n",
        "    \"SELECT regiao, estado, coduf, data, semanaEpi, populacaoTCU2019, casosAcumulado, \" \\\n",
        "    \"casosNovos, obitosAcumulado, obitosNovos \" \\\n",
        "    \"from hist_painel_covidbr_2020_parte1nov2021 WHERE municipio IS NOT NULL\"\n",
        ")"
      ],
      "id": "c940d2ba",
      "execution_count": null,
      "outputs": [
        {
          "output_type": "execute_result",
          "data": {
            "text/plain": [
              "<sqlite3.Cursor at 0x7f27cedfc030>"
            ]
          },
          "metadata": {},
          "execution_count": 66
        }
      ]
    },
    {
      "cell_type": "code",
      "metadata": {
        "colab": {
          "base_uri": "https://localhost:8080/"
        },
        "id": "bRyHp7JelKc9",
        "outputId": "164ad952-b79e-40e6-dccd-f37532457791"
      },
      "source": [
        "cursor.execute(\n",
        "    \"\"\"\n",
        "    CREATE TABLE analise_obito (\n",
        "        id INTEGER PRIMARY KEY AUTOINCREMENT,\n",
        "        data VARCHAR(15),\n",
        "        obitosNovos INTEGER,\n",
        "        centro_oeste INTEGER,\n",
        "        nordeste INTEGER,\n",
        "        norte INTEGER,\n",
        "        sudeste INTEGER,\n",
        "        sul INTEGER\n",
        "    );\n",
        "    \"\"\"\n",
        ")"
      ],
      "id": "bRyHp7JelKc9",
      "execution_count": null,
      "outputs": [
        {
          "output_type": "execute_result",
          "data": {
            "text/plain": [
              "<sqlite3.Cursor at 0x7f27c7833420>"
            ]
          },
          "metadata": {},
          "execution_count": 70
        }
      ]
    },
    {
      "cell_type": "code",
      "metadata": {
        "id": "W275Ux8Pl1xo"
      },
      "source": [
        "convert_csv_into_table(\n",
        "    conn,\n",
        "    cursor,\n",
        "    'analiseobito.csv',\n",
        "    'analise_obito',\n",
        "    {\n",
        "      'Brasil': 'obitosNovos',\n",
        "      'Centro-Oeste': 'centro_oeste',\n",
        "      'Nordeste': 'nordeste',\n",
        "      'Sudeste': 'sudeste',\n",
        "      'Norte': 'norte',\n",
        "      'Sul': 'sul',\n",
        "      'data': 'data'\n",
        "    }\n",
        ")"
      ],
      "id": "W275Ux8Pl1xo",
      "execution_count": null,
      "outputs": []
    },
    {
      "cell_type": "code",
      "metadata": {
        "id": "258dcb2b"
      },
      "source": [
        "conn.commit()"
      ],
      "id": "258dcb2b",
      "execution_count": null,
      "outputs": []
    },
    {
      "cell_type": "code",
      "metadata": {
        "id": "luma0hdnfn0_"
      },
      "source": [
        "conn.close()"
      ],
      "id": "luma0hdnfn0_",
      "execution_count": null,
      "outputs": []
    }
  ]
}
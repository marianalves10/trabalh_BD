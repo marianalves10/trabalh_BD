{
 "cells": [
  {
   "cell_type": "code",
   "execution_count": 1,
   "id": "f1a2dbed",
   "metadata": {},
   "outputs": [],
   "source": [
    "import openpyxl\n",
    "import pandas as pd\n",
    "\n",
    "path1 = 'D:/trabalh_BD/etapa06/covid-data/HIST_PAINEL_COVIDBR_2020_Parte1_10nov2021.csv'\n",
    "path2 = 'D:/trabalh_BD/etapa06/covid-data/HIST_PAINEL_COVIDBR_2020_Parte2_10nov2021.csv'\n",
    "path3 = 'D:/trabalh_BD/etapa06/covid-data/HIST_PAINEL_COVIDBR_2021_Parte1_10nov2021.csv'\n",
    "path4 = 'D:/trabalh_BD/etapa06/covid-data/HIST_PAINEL_COVIDBR_2021_Parte2_10nov2021.csv'"
   ]
  },
  {
   "cell_type": "code",
   "execution_count": 2,
   "id": "c0a6f00a",
   "metadata": {},
   "outputs": [],
   "source": [
    "df = pd.read_csv(path1,sep=';')\n",
    "df = df[~df['municipio'].notnull()]\n",
    "df = df[['regiao','estado','coduf','data','semanaEpi','populacaoTCU2019','casosAcumulado','casosNovos','obitosAcumulado','obitosNovos']]\n",
    "df.to_csv('covid-data/data2020-1.csv')"
   ]
  },
  {
   "cell_type": "code",
   "execution_count": 3,
   "id": "c0a6f00a",
   "metadata": {},
   "outputs": [],
   "source": [
    "df = pd.read_csv(path2,sep=';')\n",
    "df = df[~df['municipio'].notnull()]\n",
    "df = df[['regiao','estado','coduf','data','semanaEpi','populacaoTCU2019','casosAcumulado','casosNovos','obitosAcumulado','obitosNovos']]\n",
    "df.to_csv('covid-data/data2020-2.csv')"
   ]
  },
  {
   "cell_type": "code",
   "execution_count": null,
   "id": "c0a6f00a",
   "metadata": {},
   "outputs": [],
   "source": [
    "df = pd.read_csv(path3,sep=';')\n",
    "df = df[~df['municipio'].notnull()]\n",
    "df = df[['regiao','estado','coduf','data','semanaEpi','populacaoTCU2019','casosAcumulado','casosNovos','obitosAcumulado','obitosNovos']]\n",
    "df.to_csv('covid-data/data2021-1.csv')"
   ]
  },
  {
   "cell_type": "code",
   "execution_count": null,
   "id": "c0a6f00a",
   "metadata": {},
   "outputs": [],
   "source": [
    "df = pd.read_csv(path4,sep=';')\n",
    "df = df[~df['municipio'].notnull()]\n",
    "df = df[['regiao','estado','coduf','data','semanaEpi','populacaoTCU2019','casosAcumulado','casosNovos','obitosAcumulado','obitosNovos']]\n",
    "df.to_csv('covid-data/data2021-2.csv')"
   ]
  },
  {
   "cell_type": "code",
   "execution_count": 13,
   "id": "c940d2ba",
   "metadata": {},
   "outputs": [
    {
     "data": {
      "text/plain": [
       "array(['Brasil', 'Norte', 'Nordeste', 'Sudeste', 'Sul', 'Centro-Oeste'],\n",
       "      dtype=object)"
      ]
     },
     "execution_count": 13,
     "metadata": {},
     "output_type": "execute_result"
    }
   ],
   "source": []
  },
  {
   "cell_type": "code",
   "execution_count": null,
   "id": "258dcb2b",
   "metadata": {},
   "outputs": [],
   "source": []
  }
 ],
 "metadata": {
  "kernelspec": {
   "display_name": "Python 3 (ipykernel)",
   "language": "python",
   "name": "python3"
  },
  "language_info": {
   "codemirror_mode": {
    "name": "ipython",
    "version": 3
   },
   "file_extension": ".py",
   "mimetype": "text/x-python",
   "name": "python",
   "nbconvert_exporter": "python",
   "pygments_lexer": "ipython3",
   "version": "3.9.7"
  }
 },
 "nbformat": 4,
 "nbformat_minor": 5
}

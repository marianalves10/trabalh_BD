{
  "nbformat": 4,
  "nbformat_minor": 0,
  "metadata": {
    "colab": {
      "name": "perguntas.ipynb",
      "provenance": []
    },
    "kernelspec": {
      "name": "python3",
      "display_name": "Python 3"
    },
    "language_info": {
      "name": "python"
    }
  },
  "cells": [
    {
      "cell_type": "markdown",
      "metadata": {
        "id": "d1erVusXB5AP"
      },
      "source": [
        "O mês de 2020 que teve maior número de óbitos foi o mesmo mês que teve menor número de pessoas ocupadas?"
      ]
    },
    {
      "cell_type": "code",
      "metadata": {
        "id": "nBqJOBLsCLjE"
      },
      "source": [
        "import openpyxl\n",
        "import pandas as pd"
      ],
      "execution_count": 1,
      "outputs": []
    },
    {
      "cell_type": "code",
      "metadata": {
        "id": "HwvmRxPoCIpy"
      },
      "source": [
        "path1 = '../data/processed/data_economico.csv'\n",
        "df = pd.read_csv(path1)"
      ],
      "execution_count": 44,
      "outputs": []
    },
    {
      "cell_type": "code",
      "metadata": {
        "colab": {
          "base_uri": "https://localhost:8080/"
        },
        "id": "blbZ-8g6CUUN",
        "outputId": "d28a0ba2-72cc-4319-f2ed-4301897d241c"
      },
      "source": [
        "menor = df.loc[0, \"Pessoas ocupadas\"]\n",
        "id_menor = 0\n",
        "for i in range(len(df)):\n",
        "  if df.loc[i, \"Pessoas ocupadas\"] < menor:\n",
        "    menor = df.loc[i, \"Pessoas ocupadas\"]\n",
        "    id_menor = i\n",
        "print(df.loc[id_menor,\"Data\"])"
      ],
      "execution_count": 8,
      "outputs": [
        {
          "output_type": "stream",
          "name": "stdout",
          "text": [
            "2020.08\n"
          ]
        }
      ]
    },
    {
      "cell_type": "markdown",
      "metadata": {
        "id": "DYfEcJmnNY8-"
      },
      "source": [
        "Agosto de 2020 foi o mês com menos pessoas ocupadas."
      ]
    },
    {
      "cell_type": "code",
      "metadata": {
        "id": "1TdDu1b2Eviw"
      },
      "source": [
        "path2 = '../data/processed/analiseobito.csv'\n",
        "df = pd.read_csv(path2)"
      ],
      "execution_count": 39,
      "outputs": []
    },
    {
      "cell_type": "code",
      "metadata": {
        "colab": {
          "base_uri": "https://localhost:8080/"
        },
        "id": "ZMM2VV5VE6IJ",
        "outputId": "04d9a773-055b-415a-d27d-b0ce61f31b91"
      },
      "source": [
        "maior = (df.loc[0, \"obitosNovos\"])\n",
        "id_maior = 0\n",
        "for i in range(len(df)):\n",
        "  if (df.loc[i, \"obitosNovos\"]) > maior and df.loc[i, \"data\"]==2020:\n",
        "    maior = (df.loc[i, \"obitosNovos\"])\n",
        "    id_maior = i\n",
        "print(df.loc[id_maior,\"data_mes\"])"
      ],
      "execution_count": 40,
      "outputs": [
        {
          "output_type": "stream",
          "name": "stdout",
          "text": [
            "7\n"
          ]
        }
      ]
    },
    {
      "cell_type": "markdown",
      "metadata": {
        "id": "Pd51vASJNl81"
      },
      "source": [
        "Julho de 2020 foi o mês com mais óbitos."
      ]
    },
    {
      "cell_type": "markdown",
      "metadata": {
        "id": "81FYei1oNqLF"
      },
      "source": [
        "Retornando à pergunta que se o mês de 2020 que teve maior número de óbitos foi o mesmo mês que teve menor número de pessoas ocupadas?"
      ]
    },
    {
      "cell_type": "markdown",
      "metadata": {
        "id": "lqreSQWHLiOx"
      },
      "source": [
        "Não, na verdade o mês que teve menor número de pessoas sem ocupação não foi o mesmo mês em que houve mais óbitos em 2020, o qual foi o primeiro ano de pandemia de covid."
      ]
    },
    {
      "cell_type": "code",
      "metadata": {
        "id": "oZgm8KKkNQOM"
      },
      "source": [
        "path1 = '../data/processed/data_economico.csv'\n",
        "df = pd.read_csv(path1)"
      ],
      "execution_count": null,
      "outputs": []
    },
    {
      "cell_type": "code",
      "metadata": {
        "colab": {
          "base_uri": "https://localhost:8080/"
        },
        "id": "4wfW3nHmMZYc",
        "outputId": "3c6002c0-93e1-424c-d53a-6de15f2d7499"
      },
      "source": [
        "menor = df.loc[0, \"Pessoas ocupadas\"]\n",
        "id_menor = 0\n",
        "for i in range(len(df)):\n",
        "  if df.loc[i, \"Pessoas ocupadas\"] < menor and df.loc[i,\"Data\"] != 2020.08:\n",
        "    menor = df.loc[i, \"Pessoas ocupadas\"]\n",
        "    id_menor = i\n",
        "print(df.loc[id_menor,\"Data\"])"
      ],
      "execution_count": 50,
      "outputs": [
        {
          "output_type": "stream",
          "name": "stdout",
          "text": [
            "2020.07\n"
          ]
        }
      ]
    },
    {
      "cell_type": "markdown",
      "metadata": {
        "id": "cKUFpI6NNDlJ"
      },
      "source": [
        "Porém o segundo mês de 2020 com menos pessoas ocupadas coincide com o de mais óbitos, que é julho de 2020."
      ]
    }
  ]
}
